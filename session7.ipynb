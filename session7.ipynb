{
 "cells": [
  {
   "cell_type": "code",
   "execution_count": 1,
   "metadata": {},
   "outputs": [
    {
     "data": {
      "text/plain": [
       "      fun: 3.496932067115782e-16\n",
       " hess_inv: array([[ 4.50316844e+01,  3.76723001e-02,  3.76723001e-02,\n",
       "         1.25343743e-01],\n",
       "       [ 3.76723001e-02,  5.47369324e-01, -4.52630676e-01,\n",
       "         1.38452060e-01],\n",
       "       [ 3.76723001e-02, -4.52630676e-01,  5.47369324e-01,\n",
       "         1.38452060e-01],\n",
       "       [ 1.25343743e-01,  1.38452060e-01,  1.38452060e-01,\n",
       "         4.77669318e-01]])\n",
       "      jac: array([-2.63200632e-09,  1.35954099e-07,  1.35954099e-07,  1.25255026e-07])\n",
       "  message: 'Optimization terminated successfully.'\n",
       "     nfev: 90\n",
       "      nit: 11\n",
       "     njev: 18\n",
       "   status: 0\n",
       "  success: True\n",
       "        x: array([2.29999987, 0.68236433, 1.68236433, 1.28045797])"
      ]
     },
     "execution_count": 1,
     "metadata": {},
     "output_type": "execute_result"
    }
   ],
   "source": [
    "from scipy.optimize import minimize, Bounds\n",
    "import numpy as np\n",
    "\n",
    "goal_mu = 2.3\n",
    "goal_mu_err = 9.5\n",
    "goal_var = 2.75\n",
    "goal_var_err = 1\n",
    "\n",
    "def cost(x):\n",
    "    m, v, a, b = x\n",
    "    # cost is squared number of standard deviations from goal\n",
    "    m_cost = ((m - goal_mu)/goal_mu_err)**2\n",
    "    v_cost = (((b/((a-1)*v)) - goal_var)/goal_var_err)**2\n",
    "    cost = m_cost + v_cost\n",
    "    return cost\n",
    "\n",
    "# small number keeps params greater than 0\n",
    "small = 0.1\n",
    "\n",
    "# a must be greater than 0 for our variance equation to work\n",
    "bounds = Bounds([-np.inf, small, 1 + small, small], [np.inf, np.inf, np.inf, np.inf])\n",
    "\n",
    "minimize(cost, [1, 1, 2, 1])"
   ]
  },
  {
   "cell_type": "code",
   "execution_count": null,
   "metadata": {},
   "outputs": [],
   "source": []
  }
 ],
 "metadata": {
  "interpreter": {
   "hash": "74798b9b154393dcfd5c90135acd73bc0f37b2f4b028d4e37c349b85e06b1b31"
  },
  "kernelspec": {
   "display_name": "Python 3.9.5 64-bit ('venv': venv)",
   "language": "python",
   "name": "python3"
  },
  "language_info": {
   "codemirror_mode": {
    "name": "ipython",
    "version": 3
   },
   "file_extension": ".py",
   "mimetype": "text/x-python",
   "name": "python",
   "nbconvert_exporter": "python",
   "pygments_lexer": "ipython3",
   "version": "3.9.5"
  },
  "orig_nbformat": 4
 },
 "nbformat": 4,
 "nbformat_minor": 2
}
