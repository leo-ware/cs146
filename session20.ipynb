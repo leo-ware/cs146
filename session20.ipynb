{
 "cells": [
  {
   "cell_type": "markdown",
   "metadata": {},
   "source": [
    "$$\n",
    "\\hat{p}(\\mu) = N(\\mu | 0, b) \\prod_i N(\\mu | m_i, s_i)\n",
    "$$"
   ]
  },
  {
   "cell_type": "markdown",
   "metadata": {},
   "source": [
    "let\n",
    "$$z = \\{1, 2, 4, 5\\}$$\n",
    "\n",
    "$$s_{new} = (b^{-1} + \\sum_{i \\in z} s_i^{-1})^{-1}$$\n",
    "\n",
    "$$m_{new} = s_{new}\\sum_{i \\in z} {m_i \\over s_i}$$"
   ]
  },
  {
   "cell_type": "markdown",
   "metadata": {},
   "source": [
    "the hybrid distribution is then\n",
    "\n",
    "$$\n",
    "N(\\mu | m_{new}, s_{new}) \\big(w N(x_i | 0, a) + (1 - w)N(x_i | \\mu, 1) \\big)\n",
    "$$\n",
    "$$= w N(\\mu | m_{new}, s_{new}) N(x_i | 0, a) + (1 - w) N(\\mu | m_{new}, s_{new}) N(\\mu | x_i, 1)$$\n",
    "$$\n",
    "= N(\\mu | w N(x_i | 0, a)m_{new}, s_{new}) + N(\\mu | (1 - w) (s^{-1} + 1)^{-1}(m_{new}/s_i + x_i), (s^{-1} + 1)^{-1})\n",
    "$$"
   ]
  },
  {
   "cell_type": "markdown",
   "metadata": {},
   "source": [
    "Update will be\n",
    "\n",
    "$$m_3 := w N(x_i | 0, a) m_{new} + (1 - w) (s^{-1} + 1)^{-1}(m_{new}/s_i + x_i)$$\n",
    "$$s_3 := s_{new} + (s^{-1} + 1)^{-1}$$"
   ]
  }
 ],
 "metadata": {
  "language_info": {
   "name": "python"
  },
  "orig_nbformat": 4
 },
 "nbformat": 4,
 "nbformat_minor": 2
}
