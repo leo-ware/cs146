{
 "cells": [
  {
   "cell_type": "code",
   "execution_count": 1,
   "metadata": {},
   "outputs": [],
   "source": [
    "import pandas as pd\n",
    "import numpy as np\n",
    "from scipy import stats\n",
    "import matplotlib.pyplot as plt"
   ]
  },
  {
   "cell_type": "code",
   "execution_count": 2,
   "metadata": {},
   "outputs": [
    {
     "data": {
      "text/html": [
       "<div>\n",
       "<style scoped>\n",
       "    .dataframe tbody tr th:only-of-type {\n",
       "        vertical-align: middle;\n",
       "    }\n",
       "\n",
       "    .dataframe tbody tr th {\n",
       "        vertical-align: top;\n",
       "    }\n",
       "\n",
       "    .dataframe thead th {\n",
       "        text-align: right;\n",
       "    }\n",
       "</style>\n",
       "<table border=\"1\" class=\"dataframe\">\n",
       "  <thead>\n",
       "    <tr style=\"text-align: right;\">\n",
       "      <th></th>\n",
       "      <th>father</th>\n",
       "      <th>son</th>\n",
       "      <th>n</th>\n",
       "    </tr>\n",
       "  </thead>\n",
       "  <tbody>\n",
       "    <tr>\n",
       "      <th>0</th>\n",
       "      <td>farm</td>\n",
       "      <td>farm</td>\n",
       "      <td>703</td>\n",
       "    </tr>\n",
       "    <tr>\n",
       "      <th>1</th>\n",
       "      <td>farm</td>\n",
       "      <td>unskilled</td>\n",
       "      <td>1478</td>\n",
       "    </tr>\n",
       "    <tr>\n",
       "      <th>2</th>\n",
       "      <td>farm</td>\n",
       "      <td>skilled</td>\n",
       "      <td>1430</td>\n",
       "    </tr>\n",
       "    <tr>\n",
       "      <th>3</th>\n",
       "      <td>farm</td>\n",
       "      <td>professional</td>\n",
       "      <td>1109</td>\n",
       "    </tr>\n",
       "    <tr>\n",
       "      <th>4</th>\n",
       "      <td>unskilled</td>\n",
       "      <td>farm</td>\n",
       "      <td>58</td>\n",
       "    </tr>\n",
       "    <tr>\n",
       "      <th>5</th>\n",
       "      <td>unskilled</td>\n",
       "      <td>unskilled</td>\n",
       "      <td>1756</td>\n",
       "    </tr>\n",
       "    <tr>\n",
       "      <th>6</th>\n",
       "      <td>unskilled</td>\n",
       "      <td>skilled</td>\n",
       "      <td>1630</td>\n",
       "    </tr>\n",
       "    <tr>\n",
       "      <th>7</th>\n",
       "      <td>unskilled</td>\n",
       "      <td>professional</td>\n",
       "      <td>1568</td>\n",
       "    </tr>\n",
       "    <tr>\n",
       "      <th>8</th>\n",
       "      <td>skilled</td>\n",
       "      <td>farm</td>\n",
       "      <td>63</td>\n",
       "    </tr>\n",
       "    <tr>\n",
       "      <th>9</th>\n",
       "      <td>skilled</td>\n",
       "      <td>unskilled</td>\n",
       "      <td>1453</td>\n",
       "    </tr>\n",
       "    <tr>\n",
       "      <th>10</th>\n",
       "      <td>skilled</td>\n",
       "      <td>skilled</td>\n",
       "      <td>2068</td>\n",
       "    </tr>\n",
       "    <tr>\n",
       "      <th>11</th>\n",
       "      <td>skilled</td>\n",
       "      <td>professional</td>\n",
       "      <td>2483</td>\n",
       "    </tr>\n",
       "    <tr>\n",
       "      <th>12</th>\n",
       "      <td>professional</td>\n",
       "      <td>farm</td>\n",
       "      <td>61</td>\n",
       "    </tr>\n",
       "    <tr>\n",
       "      <th>13</th>\n",
       "      <td>professional</td>\n",
       "      <td>unskilled</td>\n",
       "      <td>749</td>\n",
       "    </tr>\n",
       "    <tr>\n",
       "      <th>14</th>\n",
       "      <td>professional</td>\n",
       "      <td>skilled</td>\n",
       "      <td>1183</td>\n",
       "    </tr>\n",
       "    <tr>\n",
       "      <th>15</th>\n",
       "      <td>professional</td>\n",
       "      <td>professional</td>\n",
       "      <td>3315</td>\n",
       "    </tr>\n",
       "  </tbody>\n",
       "</table>\n",
       "</div>"
      ],
      "text/plain": [
       "          father           son     n\n",
       "0           farm          farm   703\n",
       "1           farm     unskilled  1478\n",
       "2           farm       skilled  1430\n",
       "3           farm  professional  1109\n",
       "4      unskilled          farm    58\n",
       "5      unskilled     unskilled  1756\n",
       "6      unskilled       skilled  1630\n",
       "7      unskilled  professional  1568\n",
       "8        skilled          farm    63\n",
       "9        skilled     unskilled  1453\n",
       "10       skilled       skilled  2068\n",
       "11       skilled  professional  2483\n",
       "12  professional          farm    61\n",
       "13  professional     unskilled   749\n",
       "14  professional       skilled  1183\n",
       "15  professional  professional  3315"
      ]
     },
     "execution_count": 2,
     "metadata": {},
     "output_type": "execute_result"
    }
   ],
   "source": [
    "data = pd.read_csv(\"socialmobility.csv\")\n",
    "data[\"n\"] = data[\"count\"]\n",
    "data.drop([\"count\"], axis=1, inplace=True)\n",
    "data"
   ]
  },
  {
   "cell_type": "code",
   "execution_count": 3,
   "metadata": {},
   "outputs": [],
   "source": [
    "# resample data for bootstrapped confidence intervals\n",
    "n_boots = 1000\n",
    "counts = data.n.values\n",
    "resampler = stats.multinomial(counts.sum(), counts/counts.sum())\n",
    "resampled_counts = resampler.rvs(n_boots)"
   ]
  },
  {
   "cell_type": "code",
   "execution_count": 4,
   "metadata": {},
   "outputs": [
    {
     "data": {
      "text/plain": [
       "array([[0.01269394, 0.34938545, 0.32742293, 0.31049768],\n",
       "       [0.01472368, 0.34731747, 0.33037515, 0.3075837 ],\n",
       "       [0.00994924, 0.35898477, 0.33055838, 0.30050761],\n",
       "       ...,\n",
       "       [0.01081731, 0.35476763, 0.32111378, 0.31330128],\n",
       "       [0.0108451 , 0.3580929 , 0.33271946, 0.29834254],\n",
       "       [0.01021839, 0.35303546, 0.32758966, 0.30915648]])"
      ]
     },
     "execution_count": 4,
     "metadata": {},
     "output_type": "execute_result"
    }
   ],
   "source": [
    "# select unskilled fathers\n",
    "mask = data.father == \"unskilled\"\n",
    "relevant = np.tile(mask, [1, n_boots]).reshape(n_boots, -1)\n",
    "relevant_counts = resampled_counts[relevant].reshape([n_boots, -1])\n",
    "\n",
    "# get resampled distributions of son profession\n",
    "prob_samples = relevant_counts / relevant_counts.sum(axis=1).reshape(-1, 1)\n",
    "prob_samples"
   ]
  },
  {
   "cell_type": "code",
   "execution_count": 5,
   "metadata": {},
   "outputs": [
    {
     "data": {
      "text/html": [
       "<div>\n",
       "<style scoped>\n",
       "    .dataframe tbody tr th:only-of-type {\n",
       "        vertical-align: middle;\n",
       "    }\n",
       "\n",
       "    .dataframe tbody tr th {\n",
       "        vertical-align: top;\n",
       "    }\n",
       "\n",
       "    .dataframe thead th {\n",
       "        text-align: right;\n",
       "    }\n",
       "</style>\n",
       "<table border=\"1\" class=\"dataframe\">\n",
       "  <thead>\n",
       "    <tr style=\"text-align: right;\">\n",
       "      <th></th>\n",
       "      <th>son_job</th>\n",
       "      <th>p (MAP)</th>\n",
       "      <th>p (2.5% bound)</th>\n",
       "      <th>p (97.5% bound)</th>\n",
       "    </tr>\n",
       "  </thead>\n",
       "  <tbody>\n",
       "    <tr>\n",
       "      <th>0</th>\n",
       "      <td>farm</td>\n",
       "      <td>0.011604</td>\n",
       "      <td>0.008849</td>\n",
       "      <td>0.014792</td>\n",
       "    </tr>\n",
       "    <tr>\n",
       "      <th>1</th>\n",
       "      <td>unskilled</td>\n",
       "      <td>0.350089</td>\n",
       "      <td>0.337379</td>\n",
       "      <td>0.363108</td>\n",
       "    </tr>\n",
       "    <tr>\n",
       "      <th>2</th>\n",
       "      <td>skilled</td>\n",
       "      <td>0.325521</td>\n",
       "      <td>0.312949</td>\n",
       "      <td>0.338438</td>\n",
       "    </tr>\n",
       "    <tr>\n",
       "      <th>3</th>\n",
       "      <td>professional</td>\n",
       "      <td>0.312786</td>\n",
       "      <td>0.299182</td>\n",
       "      <td>0.325085</td>\n",
       "    </tr>\n",
       "  </tbody>\n",
       "</table>\n",
       "</div>"
      ],
      "text/plain": [
       "        son_job   p (MAP)  p (2.5% bound)  p (97.5% bound)\n",
       "0          farm  0.011604        0.008849         0.014792\n",
       "1     unskilled  0.350089        0.337379         0.363108\n",
       "2       skilled  0.325521        0.312949         0.338438\n",
       "3  professional  0.312786        0.299182         0.325085"
      ]
     },
     "execution_count": 5,
     "metadata": {},
     "output_type": "execute_result"
    }
   ],
   "source": [
    "results = pd.DataFrame()\n",
    "results[\"son_job\"] = data[mask].son.values\n",
    "results[\"p (MAP)\"] = prob_samples.mean(axis=0)\n",
    "results[[\"p (2.5% bound)\", \"p (97.5% bound)\"]] = np.percentile(prob_samples, [2.5, 97.5], axis=0).T\n",
    "results"
   ]
  },
  {
   "cell_type": "code",
   "execution_count": 6,
   "metadata": {},
   "outputs": [
    {
     "data": {
      "image/png": "[encoded data removed]",
      "text/plain": [
       "<Figure size 432x288 with 1 Axes>"
      ]
     },
     "metadata": {
      "needs_background": "light"
     },
     "output_type": "display_data"
    }
   ],
   "source": [
    "pos = np.arange(len(results))\n",
    "plt.bar(pos, results[\"p (MAP)\"])\n",
    "plt.ylim(0, 1)\n",
    "plt.xticks(pos, results.son_job)\n",
    "plt.title(\"MAP Distribution of Son Occupation for Unskilled Fathers\")\n",
    "plt.ylabel(\"Probability\")\n",
    "plt.xlabel(\"occupation\")\n",
    "plt.show()"
   ]
  },
  {
   "cell_type": "code",
   "execution_count": 7,
   "metadata": {},
   "outputs": [
    {
     "data": {
      "text/plain": [
       "array([[0.13083129, 0.1801707 , 0.29603648, 0.39296153],\n",
       "       [0.13091988, 0.1810089 , 0.29792285, 0.39014837],\n",
       "       [0.13070885, 0.17602284, 0.29911989, 0.39414843],\n",
       "       ...,\n",
       "       [0.13552897, 0.1852861 , 0.28953915, 0.38964578],\n",
       "       [0.13161984, 0.17429767, 0.30029886, 0.39378362],\n",
       "       [0.13030088, 0.18277659, 0.28559583, 0.4013267 ]])"
      ]
     },
     "execution_count": 7,
     "metadata": {},
     "output_type": "execute_result"
    }
   ],
   "source": [
    "# select unskilled fathers\n",
    "mask = data.son == \"professional\"\n",
    "relevant = np.tile(mask, [1, n_boots]).reshape(n_boots, -1)\n",
    "relevant_counts = resampled_counts[relevant].reshape([n_boots, -1])\n",
    "\n",
    "# get resampled distributions of son profession\n",
    "prob_samples = relevant_counts / relevant_counts.sum(axis=1).reshape(-1, 1)\n",
    "prob_samples"
   ]
  },
  {
   "cell_type": "code",
   "execution_count": 8,
   "metadata": {},
   "outputs": [
    {
     "data": {
      "text/html": [
       "<div>\n",
       "<style scoped>\n",
       "    .dataframe tbody tr th:only-of-type {\n",
       "        vertical-align: middle;\n",
       "    }\n",
       "\n",
       "    .dataframe tbody tr th {\n",
       "        vertical-align: top;\n",
       "    }\n",
       "\n",
       "    .dataframe thead th {\n",
       "        text-align: right;\n",
       "    }\n",
       "</style>\n",
       "<table border=\"1\" class=\"dataframe\">\n",
       "  <thead>\n",
       "    <tr style=\"text-align: right;\">\n",
       "      <th></th>\n",
       "      <th>father_job</th>\n",
       "      <th>p (MAP)</th>\n",
       "      <th>p (2.5% bound)</th>\n",
       "      <th>p (97.5% bound)</th>\n",
       "    </tr>\n",
       "  </thead>\n",
       "  <tbody>\n",
       "    <tr>\n",
       "      <th>0</th>\n",
       "      <td>farm</td>\n",
       "      <td>0.130844</td>\n",
       "      <td>0.123339</td>\n",
       "      <td>0.138080</td>\n",
       "    </tr>\n",
       "    <tr>\n",
       "      <th>1</th>\n",
       "      <td>unskilled</td>\n",
       "      <td>0.184955</td>\n",
       "      <td>0.176338</td>\n",
       "      <td>0.192856</td>\n",
       "    </tr>\n",
       "    <tr>\n",
       "      <th>2</th>\n",
       "      <td>skilled</td>\n",
       "      <td>0.293401</td>\n",
       "      <td>0.283906</td>\n",
       "      <td>0.303437</td>\n",
       "    </tr>\n",
       "    <tr>\n",
       "      <th>3</th>\n",
       "      <td>professional</td>\n",
       "      <td>0.390800</td>\n",
       "      <td>0.380383</td>\n",
       "      <td>0.401785</td>\n",
       "    </tr>\n",
       "  </tbody>\n",
       "</table>\n",
       "</div>"
      ],
      "text/plain": [
       "     father_job   p (MAP)  p (2.5% bound)  p (97.5% bound)\n",
       "0          farm  0.130844        0.123339         0.138080\n",
       "1     unskilled  0.184955        0.176338         0.192856\n",
       "2       skilled  0.293401        0.283906         0.303437\n",
       "3  professional  0.390800        0.380383         0.401785"
      ]
     },
     "execution_count": 8,
     "metadata": {},
     "output_type": "execute_result"
    }
   ],
   "source": [
    "results = pd.DataFrame()\n",
    "results[\"father_job\"] = data[mask].father.values\n",
    "results[\"p (MAP)\"] = prob_samples.mean(axis=0)\n",
    "results[[\"p (2.5% bound)\", \"p (97.5% bound)\"]] = np.percentile(prob_samples, [2.5, 97.5], axis=0).T\n",
    "results"
   ]
  },
  {
   "cell_type": "code",
   "execution_count": 9,
   "metadata": {},
   "outputs": [
    {
     "data": {
      "image/png": "[encoded data removed]",
      "text/plain": [
       "<Figure size 432x288 with 1 Axes>"
      ]
     },
     "metadata": {
      "needs_background": "light"
     },
     "output_type": "display_data"
    }
   ],
   "source": [
    "pos = np.arange(len(results))\n",
    "plt.bar(pos, results[\"p (MAP)\"])\n",
    "plt.ylim(0, 1)\n",
    "plt.xticks(pos, results.father_job)\n",
    "plt.title(\"MAP Distribution of Father Occupation for Professional Sons\")\n",
    "plt.ylabel(\"Probability\")\n",
    "plt.xlabel(\"occupation\")\n",
    "plt.show()"
   ]
  },
  {
   "cell_type": "code",
   "execution_count": null,
   "metadata": {},
   "outputs": [],
   "source": []
  }
 ],
 "metadata": {
  "interpreter": {
   "hash": "74798b9b154393dcfd5c90135acd73bc0f37b2f4b028d4e37c349b85e06b1b31"
  },
  "kernelspec": {
   "display_name": "Python 3.9.5 ('venv': venv)",
   "language": "python",
   "name": "python3"
  },
  "language_info": {
   "codemirror_mode": {
    "name": "ipython",
    "version": 3
   },
   "file_extension": ".py",
   "mimetype": "text/x-python",
   "name": "python",
   "nbconvert_exporter": "python",
   "pygments_lexer": "ipython3",
   "version": "3.10.0"
  },
  "orig_nbformat": 4
 },
 "nbformat": 4,
 "nbformat_minor": 2
}
