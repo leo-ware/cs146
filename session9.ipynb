{
 "cells": [
  {
   "cell_type": "markdown",
   "metadata": {
    "collapsed": false
   },
   "source": [
    "# Pre-class work\n",
    "\n",
    "We consider the eczema medical trial data set again. This time we will compare which of 2 models explain the observed data best.\n",
    "\n",
    "* Model 1: All studies have the same probability of success.\n",
    "* Model 2: A hierarchical model where the probability of success in each study is drawn from a beta prior distribution with unknown $\\alpha$ and $\\beta$ parameters.\n",
    "\n",
    "\n",
    "|Study          | Treatment group |   Control group  |\n",
    "|---------------|-----------------|------------------|\n",
    "|Di Rienzo 2014 |     20 / 23     |        9 / 15    |\n",
    "|Galli 1994     |     10 / 16     |       11 / 18    |\n",
    "|Kaufman 1974   |     13 / 16     |        4 / 10    |\n",
    "|Qin 2014       |     35 / 45     |       21 / 39    |\n",
    "|Sanchez 2012   |     22 / 31     |       12 / 29    |\n",
    "|Silny 2006     |      7 / 10     |        0 / 10    |\n",
    "|**Totals**     |    107 / 141    |       57 / 121   |\n",
    "\n",
    "\n",
    "**Model 1:**\n",
    "\n",
    "* For each group (treatment and control), all 6 studies have the same fixed, but unknown, probability of success, $\\theta_t,\\theta_c\\in[0,1]$.\n",
    "* The data follow a binomial distribution in each study, conditioned on the probability of success — $\\theta_t$ for treatment or $\\theta_c$ for control.\n",
    "* The priors over $\\theta_t$ and $\\theta_c$ are uniform.\n",
    "\n",
    "These assumptions lead to the following model.\n",
    "\n",
    "* Likelihood: $\\prod_{i=1}^6 \\text{Binomial}(s_i\\,|\\,\\theta, n_i)$, where $s_i$ is the number of successful recoveries, $f_i$ is the number of failures (did not recover), and $n_i=s_i+f_i$ the number of patients.\n",
    "\n",
    "* Prior: $\\text{Beta}(\\theta\\,|\\,1,1)$ for both $\\theta_t$ and $\\theta_c$.\n",
    "\n",
    "* Posterior for treatment group: $\\text{Beta}(\\theta_t\\,|\\,108, 35)$.\n",
    "\n",
    "* Posterior for control group: $\\text{Beta}(\\theta_c\\,|\\,58, 65)$."
   ]
  },
  {
   "cell_type": "code",
   "execution_count": 4,
   "metadata": {},
   "outputs": [],
   "source": [
    "from scipy import stats\n",
    "import numpy as np\n",
    "import matplotlib.pyplot as plt"
   ]
  },
  {
   "cell_type": "code",
   "execution_count": 7,
   "metadata": {},
   "outputs": [
    {
     "data": {
      "image/png": "[encoded data removed]",
      "text/plain": [
       "<Figure size 432x288 with 1 Axes>"
      ]
     },
     "metadata": {
      "needs_background": "light"
     },
     "output_type": "display_data"
    }
   ],
   "source": [
    "post = stats.beta(58, 65)\n",
    "x = np.linspace(0, 1, 100)\n",
    "plt.plot(x, post.pdf(x))\n",
    "plt.title(\"Posterior Distribution of Recovery Probability for Control\")\n",
    "plt.show()"
   ]
  },
  {
   "cell_type": "code",
   "execution_count": 53,
   "metadata": {},
   "outputs": [
    {
     "data": {
      "image/png": "[encoded data removed]",
      "text/plain": [
       "<Figure size 432x288 with 1 Axes>"
      ]
     },
     "metadata": {
      "needs_background": "light"
     },
     "output_type": "display_data"
    }
   ],
   "source": [
    "# data from control trials\n",
    "n_patients = np.array([15, 18, 10, 39, 29, 10])\n",
    "n_recovered = np.array([9, 11, 4, 21, 12, 0])\n",
    "\n",
    "plt.hist(n_recovered/n_patients)\n",
    "plt.title(\"Portion of Patients Recovered in Control Trials\")\n",
    "plt.yticks([0, 1, 2])\n",
    "plt.show()"
   ]
  },
  {
   "cell_type": "markdown",
   "metadata": {},
   "source": [
    "Based on this plot, it looks like something weird is going on with the one trial where no one recovered. We can exploit this to get a test statistic that will differentiate it from the binomial samples."
   ]
  },
  {
   "cell_type": "code",
   "execution_count": 48,
   "metadata": {},
   "outputs": [],
   "source": [
    "# generates synthetic data: # of recovered patients in each control group\n",
    "def sample_model(n):\n",
    "    ts = post.rvs(n)\n",
    "    samples = []\n",
    "    for t in ts:\n",
    "        samples.append([stats.binom(n, t).rvs() for n in n_patients])\n",
    "    return np.array(samples)\n",
    "\n",
    "samples = sample_model(1000)"
   ]
  },
  {
   "cell_type": "markdown",
   "metadata": {},
   "source": [
    "The test statistic I use is the 0.1 quantile. This is because I know the model will be bad on the left side based on the visualization above."
   ]
  },
  {
   "cell_type": "code",
   "execution_count": 44,
   "metadata": {},
   "outputs": [
    {
     "name": "stdout",
     "output_type": "stream",
     "text": [
      "0.005\n"
     ]
    },
    {
     "data": {
      "image/png": "[encoded data removed]",
      "text/plain": [
       "<Figure size 432x288 with 1 Axes>"
      ]
     },
     "metadata": {
      "needs_background": "light"
     },
     "output_type": "display_data"
    }
   ],
   "source": [
    "def test(stat):\n",
    "    sample_stats = np.array([stat(sample) for sample in samples])\n",
    "    observed_stat = stat(n_recovered)\n",
    "\n",
    "    print(np.searchsorted(np.sort(sample_stats), observed_stat)/len(sample_stats))\n",
    "    plt.hist(sample_stats, density=True)\n",
    "    plt.vlines(observed_stat, *plt.ylim(), color=\"black\")\n",
    "\n",
    "test(lambda sample: np.quantile(sample, 0.1))"
   ]
  },
  {
   "cell_type": "markdown",
   "metadata": {},
   "source": [
    "Bingo. This is very statistically significant."
   ]
  },
  {
   "cell_type": "markdown",
   "metadata": {},
   "source": []
  }
 ],
 "metadata": {
  "interpreter": {
   "hash": "74798b9b154393dcfd5c90135acd73bc0f37b2f4b028d4e37c349b85e06b1b31"
  },
  "kernelspec": {
   "display_name": "Python 3 (Anaconda 5)",
   "language": "python",
   "name": "python3"
  },
  "language_info": {
   "codemirror_mode": {
    "name": "ipython",
    "version": 3
   },
   "file_extension": ".py",
   "mimetype": "text/x-python",
   "name": "python",
   "nbconvert_exporter": "python",
   "pygments_lexer": "ipython3",
   "version": "3.10.0"
  }
 },
 "nbformat": 4,
 "nbformat_minor": 0
}
